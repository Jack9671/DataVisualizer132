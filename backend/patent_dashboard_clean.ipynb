{
 "cells": [
  {
   "cell_type": "markdown",
   "id": "1c3129e0",
   "metadata": {},
   "source": [
    "# Patent Data Dashboard Examples\n",
    "This notebook demonstrates how to create various interactive charts using pandas and Plotly Express in Jupyter."
   ]
  },
  {
   "cell_type": "code",
   "execution_count": 17,
   "id": "893d832f",
   "metadata": {},
   "outputs": [
    {
     "name": "stdout",
     "output_type": "stream",
     "text": [
      "Index(['Reference area', 'Technology domain', 'TIME_PERIOD'], dtype='object')\n"
     ]
    }
   ],
   "source": [
    "# 1. Imports and Data Loading\n",
    "import pandas as pd\n",
    "import plotly.express as px\n",
    "\n",
    "# Load the dataset (adjust path as needed)\n",
    "df = pd.read_csv(r'D:\\Semester 4\\Data Visualization\\DataVisualizer\\backend\\data\\example\\CollumnFilterOECDdatasetWith50samples.csv')\n",
    "# Inspect columns\n",
    "print(df.columns)"
   ]
  },
  {
   "cell_type": "code",
   "execution_count": 18,
   "id": "a845621b",
   "metadata": {},
   "outputs": [],
   "source": [
    "#rename columns TIME_PERIOD to Year\n",
    "df.rename(columns={'TIME_PERIOD': 'Year'}, inplace=True)\n",
    "#rename columns Reference area to Country\n",
    "df.rename(columns={'Reference area': 'Country'}, inplace=True)\n",
    "# Rename columns Technology domain to TechDomain\n",
    "df.rename(columns={'Technology domain': 'TechDomain'}, inplace=True)\n"
   ]
  },
  {
   "cell_type": "markdown",
   "id": "49298c46",
   "metadata": {},
   "source": [
    "## Helper function for filtering"
   ]
  },
  {
   "cell_type": "code",
   "execution_count": 19,
   "id": "a2043cc0",
   "metadata": {},
   "outputs": [],
   "source": [
    "# Filter function: year could be int or (start, end), countries list, domains list\n",
    "def filter_data(df, year=None, year_range=None, countries=None, domains=None):\n",
    "    df_f = df.copy()\n",
    "    if year is not None:\n",
    "        df_f = df_f[df_f['Year'] == year]\n",
    "    if year_range is not None:\n",
    "        start, end = year_range\n",
    "        df_f = df_f[(df_f['Year'] >= start) & (df_f['Year'] <= end)]\n",
    "    if countries is not None:\n",
    "        df_f = df_f[df_f['Country'].isin(countries)]\n",
    "    if domains is not None:\n",
    "        df_f = df_f[df_f['TechDomain'].isin(domains)]\n",
    "    return df_f"
   ]
  },
  {
   "cell_type": "markdown",
   "id": "393385f1",
   "metadata": {},
   "source": [
    "## 1) Bar chart by Country for a given year or range"
   ]
  },
  {
   "cell_type": "code",
   "execution_count": null,
   "id": "20594e26",
   "metadata": {},
   "outputs": [
    {
     "ename": "ValueError",
     "evalue": "Value of 'y' is not the name of a column in 'data_frame'. Expected one of ['Country', 'TechDomain', 'Year'] but received: NumPatents",
     "output_type": "error",
     "traceback": [
      "\u001b[31m---------------------------------------------------------------------------\u001b[39m",
      "\u001b[31mValueError\u001b[39m                                Traceback (most recent call last)",
      "\u001b[36mCell\u001b[39m\u001b[36m \u001b[39m\u001b[32mIn[20]\u001b[39m\u001b[32m, line 8\u001b[39m\n\u001b[32m      5\u001b[39m data1 = filter_data(df, year=year, year_range=year_range, countries=selected_countries)\n\u001b[32m      7\u001b[39m \u001b[38;5;66;03m# Plot\u001b[39;00m\n\u001b[32m----> \u001b[39m\u001b[32m8\u001b[39m fig1 = \u001b[43mpx\u001b[49m\u001b[43m.\u001b[49m\u001b[43mbar\u001b[49m\u001b[43m(\u001b[49m\n\u001b[32m      9\u001b[39m \u001b[43m    \u001b[49m\u001b[43mdata1\u001b[49m\u001b[43m,\u001b[49m\n\u001b[32m     10\u001b[39m \u001b[43m    \u001b[49m\u001b[43mx\u001b[49m\u001b[43m=\u001b[49m\u001b[33;43m'\u001b[39;49m\u001b[33;43mCountry\u001b[39;49m\u001b[33;43m'\u001b[39;49m\u001b[43m,\u001b[49m\n\u001b[32m     11\u001b[39m \u001b[43m    \u001b[49m\u001b[43my\u001b[49m\u001b[43m=\u001b[49m\u001b[33;43m'\u001b[39;49m\u001b[33;43mNumPatents\u001b[39;49m\u001b[33;43m'\u001b[39;49m\u001b[43m,\u001b[49m\n\u001b[32m     12\u001b[39m \u001b[43m    \u001b[49m\u001b[43mtitle\u001b[49m\u001b[43m=\u001b[49m\u001b[33;43mf\u001b[39;49m\u001b[33;43m'\u001b[39;49m\u001b[33;43mNumber of Patents by Country (\u001b[39;49m\u001b[38;5;132;43;01m{\u001b[39;49;00m\u001b[43myear\u001b[49m\u001b[38;5;250;43m \u001b[39;49m\u001b[38;5;28;43;01mif\u001b[39;49;00m\u001b[38;5;250;43m \u001b[39;49m\u001b[43myear\u001b[49m\u001b[38;5;250;43m \u001b[39;49m\u001b[38;5;28;43;01melse\u001b[39;49;00m\u001b[38;5;250;43m \u001b[39;49m\u001b[38;5;28;43mstr\u001b[39;49m\u001b[43m(\u001b[49m\u001b[43myear_range\u001b[49m\u001b[43m[\u001b[49m\u001b[32;43m0\u001b[39;49m\u001b[43m]\u001b[49m\u001b[43m)\u001b[49m\u001b[38;5;250;43m \u001b[39;49m\u001b[43m+\u001b[49m\u001b[38;5;250;43m \u001b[39;49m\u001b[33;43m\"\u001b[39;49m\u001b[33;43m–\u001b[39;49m\u001b[33;43m\"\u001b[39;49m\u001b[38;5;250;43m \u001b[39;49m\u001b[43m+\u001b[49m\u001b[38;5;250;43m \u001b[39;49m\u001b[38;5;28;43mstr\u001b[39;49m\u001b[43m(\u001b[49m\u001b[43myear_range\u001b[49m\u001b[43m[\u001b[49m\u001b[32;43m1\u001b[39;49m\u001b[43m]\u001b[49m\u001b[43m)\u001b[49m\u001b[38;5;132;43;01m}\u001b[39;49;00m\u001b[33;43m)\u001b[39;49m\u001b[33;43m'\u001b[39;49m\u001b[43m,\u001b[49m\n\u001b[32m     13\u001b[39m \u001b[43m    \u001b[49m\u001b[43mlabels\u001b[49m\u001b[43m=\u001b[49m\u001b[43m{\u001b[49m\u001b[33;43m'\u001b[39;49m\u001b[33;43mNumPatents\u001b[39;49m\u001b[33;43m'\u001b[39;49m\u001b[43m:\u001b[49m\u001b[43m \u001b[49m\u001b[33;43m'\u001b[39;49m\u001b[33;43mNumber of Patents\u001b[39;49m\u001b[33;43m'\u001b[39;49m\u001b[43m}\u001b[49m\n\u001b[32m     14\u001b[39m \u001b[43m)\u001b[49m\n\u001b[32m     15\u001b[39m fig1.show()\n",
      "\u001b[36mFile \u001b[39m\u001b[32m~\\AppData\\Local\\Packages\\PythonSoftwareFoundation.Python.3.11_qbz5n2kfra8p0\\LocalCache\\local-packages\\Python311\\site-packages\\plotly\\express\\_chart_types.py:381\u001b[39m, in \u001b[36mbar\u001b[39m\u001b[34m(data_frame, x, y, color, pattern_shape, facet_row, facet_col, facet_col_wrap, facet_row_spacing, facet_col_spacing, hover_name, hover_data, custom_data, text, base, error_x, error_x_minus, error_y, error_y_minus, animation_frame, animation_group, category_orders, labels, color_discrete_sequence, color_discrete_map, color_continuous_scale, pattern_shape_sequence, pattern_shape_map, range_color, color_continuous_midpoint, opacity, orientation, barmode, log_x, log_y, range_x, range_y, text_auto, title, subtitle, template, width, height)\u001b[39m\n\u001b[32m    332\u001b[39m \u001b[38;5;28;01mdef\u001b[39;00m\u001b[38;5;250m \u001b[39m\u001b[34mbar\u001b[39m(\n\u001b[32m    333\u001b[39m     data_frame=\u001b[38;5;28;01mNone\u001b[39;00m,\n\u001b[32m    334\u001b[39m     x=\u001b[38;5;28;01mNone\u001b[39;00m,\n\u001b[32m   (...)\u001b[39m\u001b[32m    375\u001b[39m     height=\u001b[38;5;28;01mNone\u001b[39;00m,\n\u001b[32m    376\u001b[39m ) -> go.Figure:\n\u001b[32m    377\u001b[39m \u001b[38;5;250m    \u001b[39m\u001b[33;03m\"\"\"\u001b[39;00m\n\u001b[32m    378\u001b[39m \u001b[33;03m    In a bar plot, each row of `data_frame` is represented as a rectangular\u001b[39;00m\n\u001b[32m    379\u001b[39m \u001b[33;03m    mark.\u001b[39;00m\n\u001b[32m    380\u001b[39m \u001b[33;03m    \"\"\"\u001b[39;00m\n\u001b[32m--> \u001b[39m\u001b[32m381\u001b[39m     \u001b[38;5;28;01mreturn\u001b[39;00m \u001b[43mmake_figure\u001b[49m\u001b[43m(\u001b[49m\n\u001b[32m    382\u001b[39m \u001b[43m        \u001b[49m\u001b[43margs\u001b[49m\u001b[43m=\u001b[49m\u001b[38;5;28;43mlocals\u001b[39;49m\u001b[43m(\u001b[49m\u001b[43m)\u001b[49m\u001b[43m,\u001b[49m\n\u001b[32m    383\u001b[39m \u001b[43m        \u001b[49m\u001b[43mconstructor\u001b[49m\u001b[43m=\u001b[49m\u001b[43mgo\u001b[49m\u001b[43m.\u001b[49m\u001b[43mBar\u001b[49m\u001b[43m,\u001b[49m\n\u001b[32m    384\u001b[39m \u001b[43m        \u001b[49m\u001b[43mtrace_patch\u001b[49m\u001b[43m=\u001b[49m\u001b[38;5;28;43mdict\u001b[39;49m\u001b[43m(\u001b[49m\u001b[43mtextposition\u001b[49m\u001b[43m=\u001b[49m\u001b[33;43m\"\u001b[39;49m\u001b[33;43mauto\u001b[39;49m\u001b[33;43m\"\u001b[39;49m\u001b[43m)\u001b[49m\u001b[43m,\u001b[49m\n\u001b[32m    385\u001b[39m \u001b[43m        \u001b[49m\u001b[43mlayout_patch\u001b[49m\u001b[43m=\u001b[49m\u001b[38;5;28;43mdict\u001b[39;49m\u001b[43m(\u001b[49m\u001b[43mbarmode\u001b[49m\u001b[43m=\u001b[49m\u001b[43mbarmode\u001b[49m\u001b[43m)\u001b[49m\u001b[43m,\u001b[49m\n\u001b[32m    386\u001b[39m \u001b[43m    \u001b[49m\u001b[43m)\u001b[49m\n",
      "\u001b[36mFile \u001b[39m\u001b[32m~\\AppData\\Local\\Packages\\PythonSoftwareFoundation.Python.3.11_qbz5n2kfra8p0\\LocalCache\\local-packages\\Python311\\site-packages\\plotly\\express\\_core.py:2483\u001b[39m, in \u001b[36mmake_figure\u001b[39m\u001b[34m(args, constructor, trace_patch, layout_patch)\u001b[39m\n\u001b[32m   2480\u001b[39m layout_patch = layout_patch \u001b[38;5;129;01mor\u001b[39;00m {}\n\u001b[32m   2481\u001b[39m apply_default_cascade(args)\n\u001b[32m-> \u001b[39m\u001b[32m2483\u001b[39m args = \u001b[43mbuild_dataframe\u001b[49m\u001b[43m(\u001b[49m\u001b[43margs\u001b[49m\u001b[43m,\u001b[49m\u001b[43m \u001b[49m\u001b[43mconstructor\u001b[49m\u001b[43m)\u001b[49m\n\u001b[32m   2484\u001b[39m \u001b[38;5;28;01mif\u001b[39;00m constructor \u001b[38;5;129;01min\u001b[39;00m [go.Treemap, go.Sunburst, go.Icicle] \u001b[38;5;129;01mand\u001b[39;00m args[\u001b[33m\"\u001b[39m\u001b[33mpath\u001b[39m\u001b[33m\"\u001b[39m] \u001b[38;5;129;01mis\u001b[39;00m \u001b[38;5;129;01mnot\u001b[39;00m \u001b[38;5;28;01mNone\u001b[39;00m:\n\u001b[32m   2485\u001b[39m     args = process_dataframe_hierarchy(args)\n",
      "\u001b[36mFile \u001b[39m\u001b[32m~\\AppData\\Local\\Packages\\PythonSoftwareFoundation.Python.3.11_qbz5n2kfra8p0\\LocalCache\\local-packages\\Python311\\site-packages\\plotly\\express\\_core.py:1729\u001b[39m, in \u001b[36mbuild_dataframe\u001b[39m\u001b[34m(args, constructor)\u001b[39m\n\u001b[32m   1726\u001b[39m     args[\u001b[33m\"\u001b[39m\u001b[33mcolor\u001b[39m\u001b[33m\"\u001b[39m] = \u001b[38;5;28;01mNone\u001b[39;00m\n\u001b[32m   1727\u001b[39m \u001b[38;5;66;03m# now that things have been prepped, we do the systematic rewriting of `args`\u001b[39;00m\n\u001b[32m-> \u001b[39m\u001b[32m1729\u001b[39m df_output, wide_id_vars = \u001b[43mprocess_args_into_dataframe\u001b[49m\u001b[43m(\u001b[49m\n\u001b[32m   1730\u001b[39m \u001b[43m    \u001b[49m\u001b[43margs\u001b[49m\u001b[43m,\u001b[49m\n\u001b[32m   1731\u001b[39m \u001b[43m    \u001b[49m\u001b[43mwide_mode\u001b[49m\u001b[43m,\u001b[49m\n\u001b[32m   1732\u001b[39m \u001b[43m    \u001b[49m\u001b[43mvar_name\u001b[49m\u001b[43m,\u001b[49m\n\u001b[32m   1733\u001b[39m \u001b[43m    \u001b[49m\u001b[43mvalue_name\u001b[49m\u001b[43m,\u001b[49m\n\u001b[32m   1734\u001b[39m \u001b[43m    \u001b[49m\u001b[43mis_pd_like\u001b[49m\u001b[43m,\u001b[49m\n\u001b[32m   1735\u001b[39m \u001b[43m    \u001b[49m\u001b[43mnative_namespace\u001b[49m\u001b[43m,\u001b[49m\n\u001b[32m   1736\u001b[39m \u001b[43m\u001b[49m\u001b[43m)\u001b[49m\n\u001b[32m   1737\u001b[39m df_output: nw.DataFrame\n\u001b[32m   1738\u001b[39m \u001b[38;5;66;03m# now that `df_output` exists and `args` contains only references, we complete\u001b[39;00m\n\u001b[32m   1739\u001b[39m \u001b[38;5;66;03m# the special-case and wide-mode handling by further rewriting args and/or mutating\u001b[39;00m\n\u001b[32m   1740\u001b[39m \u001b[38;5;66;03m# df_output\u001b[39;00m\n",
      "\u001b[36mFile \u001b[39m\u001b[32m~\\AppData\\Local\\Packages\\PythonSoftwareFoundation.Python.3.11_qbz5n2kfra8p0\\LocalCache\\local-packages\\Python311\\site-packages\\plotly\\express\\_core.py:1330\u001b[39m, in \u001b[36mprocess_args_into_dataframe\u001b[39m\u001b[34m(args, wide_mode, var_name, value_name, is_pd_like, native_namespace)\u001b[39m\n\u001b[32m   1328\u001b[39m         \u001b[38;5;28;01mif\u001b[39;00m argument == \u001b[33m\"\u001b[39m\u001b[33mindex\u001b[39m\u001b[33m\"\u001b[39m:\n\u001b[32m   1329\u001b[39m             err_msg += \u001b[33m\"\u001b[39m\u001b[38;5;130;01m\\n\u001b[39;00m\u001b[33m To use the index, pass it in directly as `df.index`.\u001b[39m\u001b[33m\"\u001b[39m\n\u001b[32m-> \u001b[39m\u001b[32m1330\u001b[39m         \u001b[38;5;28;01mraise\u001b[39;00m \u001b[38;5;167;01mValueError\u001b[39;00m(err_msg)\n\u001b[32m   1331\u001b[39m \u001b[38;5;28;01melif\u001b[39;00m length \u001b[38;5;129;01mand\u001b[39;00m (actual_len := \u001b[38;5;28mlen\u001b[39m(df_input)) != length:\n\u001b[32m   1332\u001b[39m     \u001b[38;5;28;01mraise\u001b[39;00m \u001b[38;5;167;01mValueError\u001b[39;00m(\n\u001b[32m   1333\u001b[39m         \u001b[33m\"\u001b[39m\u001b[33mAll arguments should have the same length. \u001b[39m\u001b[33m\"\u001b[39m\n\u001b[32m   1334\u001b[39m         \u001b[33m\"\u001b[39m\u001b[33mThe length of column argument `df[\u001b[39m\u001b[38;5;132;01m%s\u001b[39;00m\u001b[33m]` is \u001b[39m\u001b[38;5;132;01m%d\u001b[39;00m\u001b[33m, whereas the \u001b[39m\u001b[33m\"\u001b[39m\n\u001b[32m   (...)\u001b[39m\u001b[32m   1341\u001b[39m         )\n\u001b[32m   1342\u001b[39m     )\n",
      "\u001b[31mValueError\u001b[39m: Value of 'y' is not the name of a column in 'data_frame'. Expected one of ['Country', 'TechDomain', 'Year'] but received: NumPatents"
     ]
    },
    {
     "ename": "",
     "evalue": "",
     "output_type": "error",
     "traceback": [
      "\u001b[1;31mThe Kernel crashed while executing code in the current cell or a previous cell. \n",
      "\u001b[1;31mPlease review the code in the cell(s) to identify a possible cause of the failure. \n",
      "\u001b[1;31mClick <a href='https://aka.ms/vscodeJupyterKernelCrash'>here</a> for more info. \n",
      "\u001b[1;31mView Jupyter <a href='command:jupyter.viewOutput'>log</a> for further details."
     ]
    }
   ],
   "source": [
    "# Parameters\n",
    "year = 2020              # single year; set to None if using range\n",
    "year_range = None        # e.g., (2018, 2022) for specific range\n",
    "selected_countries = ['USA', 'Japan', 'Germany']  # or None for all\n",
    "data1 = filter_data(df, year=year, year_range=year_range, countries=selected_countries)\n",
    "\n",
    "# Plot\n",
    "fig1 = px.bar(\n",
    "    data1,\n",
    "    x='Country',\n",
    "    y='NumPatents',\n",
    "    title=f'Number of Patents by Country ({year if year else str(year_range[0]) + \"–\" + str(year_range[1])})',\n",
    "    labels={'NumPatents': 'Number of Patents'}\n",
    ")\n",
    "fig1.show()"
   ]
  },
  {
   "cell_type": "markdown",
   "id": "e817878e",
   "metadata": {},
   "source": [
    "## 2) Grouped bar chart by Technology Domain over years"
   ]
  },
  {
   "cell_type": "code",
   "execution_count": null,
   "id": "568b5028",
   "metadata": {},
   "outputs": [],
   "source": [
    "# Parameters\n",
    "year = None\n",
    "year_range = (2015, 2020)\n",
    "selected_domain = ['Biotech', 'AI']  # list of domains or None for all\n",
    "data2 = filter_data(df, year=year, year_range=year_range, domains=selected_domain)\n",
    "\n",
    "# Plot grouped bar\n",
    "fig2 = px.bar(\n",
    "    data2,\n",
    "    x='Year',\n",
    "    y='NumPatents',\n",
    "    color='TechDomain',\n",
    "    barmode='group',\n",
    "    title=f'Patents by Tech Domain {year_range[0]}–{year_range[1]}',\n",
    "    labels={'NumPatents': 'Number of Patents'}\n",
    ")\n",
    "fig2.show()"
   ]
  },
  {
   "cell_type": "markdown",
   "id": "4ad27240",
   "metadata": {},
   "source": [
    "## 3) Line chart: Patents over Years (single series)"
   ]
  },
  {
   "cell_type": "code",
   "execution_count": null,
   "id": "a998a2c2",
   "metadata": {},
   "outputs": [],
   "source": [
    "# Parameters\n",
    "year_range = (2010, 2020)\n",
    "data3 = filter_data(df, year_range=year_range)\n",
    "# Aggregate if multiple countries/domains\n",
    "agg3 = data3.groupby('Year')['NumPatents'].sum().reset_index()\n",
    "\n",
    "fig3 = px.line(\n",
    "    agg3,\n",
    "    x='Year',\n",
    "    y='NumPatents',\n",
    "    title=f'Total Patents Over Years {year_range[0]}–{year_range[1]}',\n",
    "    markers=True\n",
    ")\n",
    "fig3.show()"
   ]
  },
  {
   "cell_type": "markdown",
   "id": "69fc24f7",
   "metadata": {},
   "source": [
    "## 4) Multi-line chart: Each Country over Years"
   ]
  },
  {
   "cell_type": "code",
   "execution_count": null,
   "id": "0359f147",
   "metadata": {},
   "outputs": [],
   "source": [
    "# Parameters\n",
    "year_range = (2010, 2020)\n",
    "selected_countries = ['USA', 'China', 'Germany']\n",
    "data4 = filter_data(df, year_range=year_range, countries=selected_countries)\n",
    "\n",
    "# Aggregate per country-year\n",
    "agg4 = data4.groupby(['Year', 'Country'])['NumPatents'].sum().reset_index()\n",
    "\n",
    "fig4 = px.line(\n",
    "    agg4,\n",
    "    x='Year',\n",
    "    y='NumPatents',\n",
    "    color='Country',\n",
    "    title=f'Patents by Country Over Years {year_range[0]}–{year_range[1]}',\n",
    "    markers=True\n",
    ")\n",
    "fig4.show()"
   ]
  }
 ],
 "metadata": {
  "kernelspec": {
   "display_name": "Python 3",
   "language": "python",
   "name": "python3"
  },
  "language_info": {
   "codemirror_mode": {
    "name": "ipython",
    "version": 3
   },
   "file_extension": ".py",
   "mimetype": "text/x-python",
   "name": "python",
   "nbconvert_exporter": "python",
   "pygments_lexer": "ipython3",
   "version": "3.11.9"
  }
 },
 "nbformat": 4,
 "nbformat_minor": 5
}
